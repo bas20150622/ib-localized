{
 "cells": [
  {
   "cell_type": "markdown",
   "id": "66243bb1",
   "metadata": {},
   "source": [
    "# Interactive Brokers Reporting in Local Currency\n",
    "- show balance per start of year vs balance per end of year\n",
    "- show taxable profit and loss for stocks, options, forex and CFDs\n",
    "- show taxable dividends\n",
    "\n",
    "## TODO\n",
    "- add forex trades\n",
    "- add tracking of balances of cash vs local from deposit/ withdrawal/ trade\n",
    "- next year: Transfers (stock), internal cash movements between accounts"
   ]
  },
  {
   "cell_type": "code",
   "execution_count": null,
   "id": "1b5b7d1c",
   "metadata": {},
   "outputs": [],
   "source": [
    "from datetime import datetime"
   ]
  },
  {
   "cell_type": "code",
   "execution_count": null,
   "id": "e8381a5b",
   "metadata": {},
   "outputs": [],
   "source": [
    "import csv\n",
    "from pathlib import Path"
   ]
  },
  {
   "cell_type": "code",
   "execution_count": null,
   "id": "66daed6e",
   "metadata": {},
   "outputs": [],
   "source": [
    "####### USER SETTINGS #######\n",
    "DATA_DIR = Path(\"data/\")  # subdir where your .csv file is stored\n",
    "DATA_FILE = DATA_DIR / Path(\"2020.csv\")   # name of your .csv file with activity statement from ib\n",
    "DATABASE_NAME = \"ib.db\"  # name of the sqlite database for storing and analysing activity statement data\n",
    "# datafile2 = DATA_DIR / Path(\"MULTI_20210101_20210423.csv\")"
   ]
  },
  {
   "cell_type": "code",
   "execution_count": null,
   "id": "d16eb159",
   "metadata": {},
   "outputs": [],
   "source": [
    "from csv_parser import process_csv"
   ]
  },
  {
   "cell_type": "code",
   "execution_count": null,
   "id": "e050b998",
   "metadata": {},
   "outputs": [],
   "source": [
    "from forex import forex_rate"
   ]
  },
  {
   "cell_type": "code",
   "execution_count": null,
   "id": "91329392",
   "metadata": {},
   "outputs": [],
   "source": [
    "from settings import LOCAL_CURRENCY"
   ]
  },
  {
   "cell_type": "code",
   "execution_count": null,
   "id": "5b4541be",
   "metadata": {},
   "outputs": [],
   "source": [
    "from enums import NameValueType, TradeType, TradePositionStatus\n",
    "from decimal import Decimal"
   ]
  },
  {
   "cell_type": "code",
   "execution_count": null,
   "id": "9a890808",
   "metadata": {},
   "outputs": [],
   "source": [
    "from queries import calc_balance, calc_pnl_simplified, calc_net_dividend"
   ]
  },
  {
   "cell_type": "markdown",
   "id": "697d9642",
   "metadata": {},
   "source": [
    "## Parse csv"
   ]
  },
  {
   "cell_type": "code",
   "execution_count": null,
   "id": "cc0531a2",
   "metadata": {},
   "outputs": [],
   "source": [
    "# \"Net Asset Value\"\n",
    "# \"Open Positions\"\n",
    "# \"Trades\"\n",
    "# \"Deposits & Withdrawals\"\n",
    "# \"Dividends\"\n",
    "# \"Withholding Tax\"\n",
    "rows = process_csv(DATA_FILE)"
   ]
  },
  {
   "cell_type": "code",
   "execution_count": null,
   "id": "651d1418",
   "metadata": {},
   "outputs": [],
   "source": [
    "rows.keys()"
   ]
  },
  {
   "cell_type": "markdown",
   "id": "3e025928",
   "metadata": {},
   "source": [
    "## Test adding trades to db"
   ]
  },
  {
   "cell_type": "code",
   "execution_count": null,
   "id": "3a3e4541",
   "metadata": {},
   "outputs": [],
   "source": [
    "from sqlalchemy.sql.functions import coalesce\n",
    "from sqlalchemy import case, literal, func"
   ]
  },
  {
   "cell_type": "code",
   "execution_count": null,
   "id": "844b2b44",
   "metadata": {},
   "outputs": [],
   "source": [
    "from sqlalchemy import null, alias\n",
    "from sqlalchemy.orm import aliased"
   ]
  },
  {
   "cell_type": "code",
   "execution_count": null,
   "id": "761df4da",
   "metadata": {},
   "outputs": [],
   "source": [
    "from db import SQLASyncDB"
   ]
  },
  {
   "cell_type": "code",
   "execution_count": null,
   "id": "cd96bb6e",
   "metadata": {},
   "outputs": [],
   "source": [
    "#db2 = SQLASyncDB(\"sqlite:///ib_dev.db\", drop=False)"
   ]
  },
  {
   "cell_type": "code",
   "execution_count": null,
   "id": "ed2864dc",
   "metadata": {},
   "outputs": [],
   "source": [
    "drop=False\n",
    "db = SQLASyncDB(\"sqlite:///\" + DATABASE_NAME, drop=drop)"
   ]
  },
  {
   "cell_type": "code",
   "execution_count": null,
   "id": "a46264e7",
   "metadata": {},
   "outputs": [],
   "source": [
    "type(db.session)"
   ]
  },
  {
   "cell_type": "code",
   "execution_count": null,
   "id": "5e7dbb55",
   "metadata": {},
   "outputs": [],
   "source": [
    "from models.sqla import Trade, DepositsWithdrawals, Dividends, ForexBalance, WitholdingTax\n",
    "from models.sqla import OpenPositions, NetAssetValue, NameValue, ChangeInDividendAccruals\n",
    "from models.sqla import tradePosition"
   ]
  },
  {
   "cell_type": "code",
   "execution_count": null,
   "id": "4fecd2e9",
   "metadata": {},
   "outputs": [],
   "source": [
    "db.session.add_all([ChangeInDividendAccruals(**val) for val in rows['Change in Dividend Accruals']])\n",
    "db.session.commit()"
   ]
  },
  {
   "cell_type": "code",
   "execution_count": null,
   "id": "474bc690",
   "metadata": {},
   "outputs": [],
   "source": [
    "#tr = Trade(**rows['Trades'][0])\n",
    "db.session.add_all([Trade(**val) for val in rows['Trades']])\n",
    "db.session.commit()"
   ]
  },
  {
   "cell_type": "code",
   "execution_count": null,
   "id": "9b921252",
   "metadata": {},
   "outputs": [],
   "source": [
    "# dw = DepositsWithdrawals(**rows['Deposits & Withdrawals'][0])\n",
    "db.session.add_all([DepositsWithdrawals(**val) for val in rows['Deposits & Withdrawals']])\n",
    "db.session.commit()"
   ]
  },
  {
   "cell_type": "code",
   "execution_count": null,
   "id": "ad60943a",
   "metadata": {},
   "outputs": [],
   "source": [
    "#model = Dividends(**rows['Dividends'][0])\n",
    "db.session.add_all([Dividends(**val) for val in rows['Dividends']])\n",
    "db.session.commit()"
   ]
  },
  {
   "cell_type": "code",
   "execution_count": null,
   "id": "0415f818",
   "metadata": {},
   "outputs": [],
   "source": [
    "#model = ForexBalance(**rows['Forex Balances'][0])\n",
    "db.session.add_all([ForexBalance(**val) for val in rows['Forex Balances']])\n",
    "db.session.commit()"
   ]
  },
  {
   "cell_type": "code",
   "execution_count": null,
   "id": "68fd2ea2",
   "metadata": {},
   "outputs": [],
   "source": [
    "#model = WitholdingTax(**rows['Withholding Tax'][0])\n",
    "db.session.add_all([WitholdingTax(**val) for val in rows['Withholding Tax']])\n",
    "db.session.commit()"
   ]
  },
  {
   "cell_type": "code",
   "execution_count": null,
   "id": "2b9e2c14",
   "metadata": {},
   "outputs": [],
   "source": [
    "#model = OpenPositions(**rows['Open Positions'][0])\n",
    "db.session.add_all([OpenPositions(**val) for val in rows['Open Positions']])\n",
    "db.session.commit()"
   ]
  },
  {
   "cell_type": "code",
   "execution_count": null,
   "id": "fcefaa3b",
   "metadata": {},
   "outputs": [],
   "source": [
    "#model = NetAssetValue(**rows['Net Asset Value'][0])\n",
    "db.session.add_all([NetAssetValue(**val) for val in rows['Net Asset Value']])\n",
    "db.session.commit()"
   ]
  },
  {
   "cell_type": "code",
   "execution_count": null,
   "id": "c18839d7",
   "metadata": {},
   "outputs": [],
   "source": [
    "db.session.add_all([NameValue(**val) for val in rows[\"Statement\"]])\n",
    "db.session.add_all([NameValue(**val) for val in rows[\"Account Information\"]])\n",
    "db.session.commit()"
   ]
  },
  {
   "cell_type": "markdown",
   "id": "d8f7f228",
   "metadata": {},
   "source": [
    "## Queries"
   ]
  },
  {
   "cell_type": "code",
   "execution_count": null,
   "id": "e7ee8e29",
   "metadata": {},
   "outputs": [],
   "source": [
    "# Infer Base Currency\n",
    "BASE_CURRENCY = db.session.query(NameValue.Value).filter(NameValue.type==NameValueType.ACCOUNT_INFORMATION, NameValue.Name==\"Base Currency\").scalar()\n",
    "BASE_CURRENCY"
   ]
  },
  {
   "cell_type": "code",
   "execution_count": null,
   "id": "e6e733e0",
   "metadata": {},
   "outputs": [],
   "source": [
    "# Infer balance date from statement\n",
    "STATEMENT_END_DATE_STR = db.session.query(NameValue.Value).filter(NameValue.type==NameValueType.STATEMENT, NameValue.Name==\"Period\").scalar()\n",
    "STATEMENT_END_DATE = datetime.strptime(STATEMENT_END_DATE_STR.split(\" - \")[-1], \"%B %d, %Y\")\n",
    "STATEMENT_END_DATE"
   ]
  },
  {
   "cell_type": "code",
   "execution_count": null,
   "id": "db22a4e6",
   "metadata": {},
   "outputs": [],
   "source": [
    "# infer FIAT trades\n",
    "ForexPairs = set()\n",
    "FiatTrades = set()\n",
    "symbols = db.session.query(Trade.Symbol).filter(Trade.Asset_Category.like(\"Forex%\")).group_by(Trade.Symbol).all()\n",
    "for symbol in symbols:\n",
    "    ForexPairs.add(symbol[0])\n",
    "    base, quote = symbol[0].split(\".\")\n",
    "    FiatTrades.add(base)\n",
    "    FiatTrades.add(quote)\n",
    "print(f\"Forex pairs: {ForexPairs}\")\n",
    "print(f\"Fiat traded: {FiatTrades}\")\n",
    "EOY_FOREX_RATES = {}\n",
    "for currency in FiatTrades:\n",
    "    EOY_FOREX_RATES[currency] = forex_rate(currency, LOCAL_CURRENCY, STATEMENT_END_DATE)\n",
    "print(f\"Forex rates vs {LOCAL_CURRENCY} @ {STATEMENT_END_DATE}: {EOY_FOREX_RATES}\")"
   ]
  },
  {
   "cell_type": "code",
   "execution_count": null,
   "id": "1ad3ad0a",
   "metadata": {},
   "outputs": [],
   "source": [
    "# Base in Local (Quote) currency @ statement end date\n",
    "EOY_BASE_LOCAL = forex_rate(BASE_CURRENCY, LOCAL_CURRENCY, STATEMENT_END_DATE)\n",
    "print(f\"Base currency quote in local currency {BASE_CURRENCY}.{LOCAL_CURRENCY} = {EOY_BASE_LOCAL}\")"
   ]
  },
  {
   "cell_type": "code",
   "execution_count": null,
   "id": "e821019c",
   "metadata": {},
   "outputs": [],
   "source": [
    "def calc_balance():\n",
    "    \"\"\"\n",
    "    Calculate the balance of equities and cash at statement end date\n",
    "    \"\"\"\n",
    "    QUANTIZE_FIAT = Decimal('1.00')\n",
    "    sum_equity_base = sum_cash_base = sum_change_in_dividends_base = Decimal(0)\n",
    "    #sum_balance_base = sum_balance_local_currency = Decimal(0)\n",
    "    print(f\"BALANCE AT {STATEMENT_END_DATE_STR}\\n\")\n",
    "    print(\"*** EQUITY BALANCE ***\")\n",
    "    q = (\n",
    "        db.session\n",
    "        .query(OpenPositions.Symbol, OpenPositions.Quantity, OpenPositions.Mult, OpenPositions.Value)\n",
    "        .order_by(OpenPositions.Symbol)\n",
    "    )\n",
    "    for symbol, quantity, multiplier, value in q:\n",
    "        sum_equity_base += value\n",
    "        val_local_currency = value * EOY_BASE_LOCAL\n",
    "    \n",
    "        print(\n",
    "            f\"{quantity} {symbol} @ {value} {BASE_CURRENCY}/ \"\n",
    "            f\"{val_local_currency.quantize(Decimal('1.00'))} {LOCAL_CURRENCY}\"\n",
    "        )\n",
    "    print(\"-------------------------------\")\n",
    "    print(\n",
    "        f\"SUB TOTAL EQUITY {sum_equity_base} {BASE_CURRENCY}/ \"\n",
    "        f\"{(sum_equity_base * EOY_BASE_LOCAL).quantize(QUANTIZE_FIAT)} {LOCAL_CURRENCY}\")\n",
    "    print()\n",
    "    print(\"*** CASH BALANCE ***\")\n",
    "    for currency, qty, close_value_in_base_at_statement_end in (\n",
    "        db.session.query(ForexBalance.Description, ForexBalance.Quantity, ForexBalance.Close_Price)):\n",
    "        val_base = qty * close_value_in_base_at_statement_end\n",
    "        val_local_currency = val_base * EOY_BASE_LOCAL\n",
    "        sum_cash_base += val_base\n",
    "        print(\n",
    "            f\"{qty} {currency}: {val_base.quantize(Decimal('1.00'))} {BASE_CURRENCY}/ \"\n",
    "            f\"{val_local_currency.quantize(Decimal('1.00'))} {LOCAL_CURRENCY}\")\n",
    "    print(\"-------------------------------\")\n",
    "    print(\n",
    "        f\"SUB TOTAL CASH {sum_cash_base} {BASE_CURRENCY}/ \"\n",
    "        f\"{(sum_cash_base * EOY_BASE_LOCAL).quantize(QUANTIZE_FIAT)} {LOCAL_CURRENCY}\")\n",
    "    print()\n",
    "    print(\"*** CHANGE IN DIVIDEND ACCRUALS ***\")\n",
    "    sum_change_in_dividends_base = db.session.query(func.sum(ChangeInDividendAccruals.Net_Amount)).scalar()\n",
    "    print(sum_change_in_dividends_base)\n",
    "    print()\n",
    "    totals = sum_equity_base + sum_cash_base + sum_change_in_dividends_base\n",
    "    print(\n",
    "        f\"TOTAL: {totals.quantize(QUANTIZE_FIAT)} {BASE_CURRENCY}/ \"\n",
    "        f\"{(totals * EOY_BASE_LOCAL).quantize(QUANTIZE_FIAT)} {LOCAL_CURRENCY}\")"
   ]
  },
  {
   "cell_type": "code",
   "execution_count": null,
   "id": "72df5ced",
   "metadata": {},
   "outputs": [],
   "source": [
    "calc_balance()"
   ]
  },
  {
   "cell_type": "code",
   "execution_count": null,
   "id": "6b4b6f54",
   "metadata": {},
   "outputs": [],
   "source": [
    "def calc_net_dividend(session):\n",
    "    \"\"\"\n",
    "    Calc sum of dividend - witholding tax \n",
    "    \"\"\"\n",
    "    dividends = session.query(\n",
    "        Dividends.Symbol.label(\"asset\"), Dividends.Currency.label(\"currency\"),\n",
    "        Dividends.Amount.label(\"amount\"), \n",
    "        (Dividends.Amount * Dividends.QuoteInLocalCurrency).label(\"amount_local\")\n",
    "    )\n",
    "    witholdings = session.query(\n",
    "        WitholdingTax.Symbol.label(\"asset\"), WitholdingTax.Currency.label(\"currency\"),\n",
    "        WitholdingTax.Amount.label(\"amount\"), \n",
    "        (WitholdingTax.Amount * WitholdingTax.QuoteInLocalCurrency).label(\"amount_local\")\n",
    "    )\n",
    "    net_dividend = dividends.union_all(witholdings).subquery()\n",
    "    q = (\n",
    "        session.query(\n",
    "            net_dividend.c.asset.label(\"asset\"), \n",
    "            func.sum(net_dividend.c.amount).label(\"net_dividend\"),\n",
    "            func.sum(net_dividend.c.amount_local).label(\"net_dividend_local\")\n",
    "        )\n",
    "        .group_by(net_dividend.c.asset)\n",
    "        .order_by(net_dividend.c.asset)\n",
    "    )\n",
    "    \n",
    "    #for _id, _account_id, _currency, _account, _description, _dt, _q, _forex in q:\n",
    "    print(f\"NET DIVIDENDS (DIVIDEND - WITHOLDING TAX) AT {STATEMENT_END_DATE_STR}\\n\")\n",
    "    for row in q:\n",
    "        #print(f\"{_id} {_currency} {_description} {_dt} {_q} {_forex}\")\n",
    "        print(f\"{row.asset}: {row.net_dividend} {BASE_CURRENCY}, {row.net_dividend_local} {LOCAL_CURRENCY}\")"
   ]
  },
  {
   "cell_type": "code",
   "execution_count": null,
   "id": "d7f2be91",
   "metadata": {},
   "outputs": [],
   "source": [
    "calc_net_dividend(db.session)"
   ]
  },
  {
   "cell_type": "markdown",
   "id": "59866f14",
   "metadata": {},
   "source": [
    "## Calculate PNL"
   ]
  },
  {
   "cell_type": "code",
   "execution_count": null,
   "id": "cb86aad4",
   "metadata": {},
   "outputs": [],
   "source": [
    "from queries import process_base_query"
   ]
  },
  {
   "cell_type": "code",
   "execution_count": null,
   "id": "6ba96de3",
   "metadata": {},
   "outputs": [],
   "source": [
    "tradedb = SQLASyncDB(\"sqlite:///tradedb.db\", drop=False)"
   ]
  },
  {
   "cell_type": "code",
   "execution_count": null,
   "id": "c25f6164",
   "metadata": {},
   "outputs": [],
   "source": [
    "tradedb.drop_all()\n",
    "tradedb.create_all(models=[tradePosition])"
   ]
  },
  {
   "cell_type": "code",
   "execution_count": null,
   "id": "fbe30b61",
   "metadata": {},
   "outputs": [],
   "source": [
    "process_base_query(db.session, tradedb.session, forex_rate=forex_rate)"
   ]
  },
  {
   "cell_type": "code",
   "execution_count": null,
   "id": "8a74b1c7",
   "metadata": {},
   "outputs": [],
   "source": [
    "(\n",
    "    tradedb.session.query(tradePosition.asset, func.sum(tradePosition.qty))\n",
    "    .filter(tradePosition.status==TradePositionStatus.OPEN)\n",
    "    .group_by(tradePosition.asset)\n",
    "    .all()\n",
    ")"
   ]
  },
  {
   "cell_type": "code",
   "execution_count": null,
   "id": "017cde31",
   "metadata": {},
   "outputs": [],
   "source": [
    "# PNL per asset - NOTE USD VALUE LOSS!\n",
    "(\n",
    "    tradedb.session.query(tradePosition.asset, func.sum(tradePosition.pnl_base), func.sum(tradePosition.pnl_local))\n",
    "    .filter(tradePosition.status==TradePositionStatus.CLOSED)\n",
    "    .group_by(tradePosition.asset)\n",
    "    .all()\n",
    ")"
   ]
  },
  {
   "cell_type": "code",
   "execution_count": null,
   "id": "00e99c51",
   "metadata": {},
   "outputs": [],
   "source": [
    "# PNL total - compare pnl_base to realized \n",
    "(\n",
    "    tradedb.session.query(func.sum(tradePosition.pnl_base), func.sum(tradePosition.pnl_local))\n",
    "    .filter(tradePosition.status==TradePositionStatus.CLOSED)\n",
    "    .all()\n",
    ")"
   ]
  },
  {
   "cell_type": "code",
   "execution_count": null,
   "id": "ff00442d",
   "metadata": {},
   "outputs": [],
   "source": [
    "# PNL total - compare pnl_base to realized \n",
    "(\n",
    "    tradedb.session.query(func.sum(tradePosition.pnl_base), func.sum(tradePosition.pnl_local))\n",
    "    .filter(tradePosition.status==TradePositionStatus.CLOSED, tradePosition.asset != \"USD\")\n",
    "    .all()\n",
    ")"
   ]
  },
  {
   "cell_type": "code",
   "execution_count": null,
   "id": "2db59887",
   "metadata": {},
   "outputs": [],
   "source": []
  },
  {
   "cell_type": "code",
   "execution_count": null,
   "id": "e09d8662",
   "metadata": {},
   "outputs": [],
   "source": []
  },
  {
   "cell_type": "code",
   "execution_count": null,
   "id": "ab279f65",
   "metadata": {},
   "outputs": [],
   "source": []
  },
  {
   "cell_type": "code",
   "execution_count": null,
   "id": "fcd05ac3",
   "metadata": {},
   "outputs": [],
   "source": []
  },
  {
   "cell_type": "code",
   "execution_count": null,
   "id": "ab030096",
   "metadata": {},
   "outputs": [],
   "source": []
  },
  {
   "cell_type": "code",
   "execution_count": null,
   "id": "bd6d586a",
   "metadata": {},
   "outputs": [],
   "source": []
  },
  {
   "cell_type": "markdown",
   "id": "a01d4b2b",
   "metadata": {},
   "source": [
    "## Deltas\n",
    "- deposits + withdrawals\n",
    "- trades\n",
    "- dividend\n",
    "- witholding tax"
   ]
  },
  {
   "cell_type": "code",
   "execution_count": null,
   "id": "ab88c96e",
   "metadata": {},
   "outputs": [],
   "source": [
    "# Statement and Account Information\n",
    "db.session.query(NameValue.type, NameValue.Name).all()"
   ]
  },
  {
   "cell_type": "code",
   "execution_count": null,
   "id": "1bc64f4a",
   "metadata": {},
   "outputs": [],
   "source": [
    "# trade symbol holdings with qty <> 0 (\"short or long position open at balance date\")\n",
    "q = (db.session\n",
    "     .query(Trade.Symbol, func.sum(Trade.Quantity).label(\"sum\"))\n",
    "     .group_by(Trade.Symbol)\n",
    "     .order_by(Trade.Symbol).subquery()\n",
    "    )\n",
    "q2 = db.session.query(q.c.Symbol, q.c.sum).filter(or_(q.c.sum > Decimal(\"0\"), q.c.sum < Decimal(\"0\")))\n",
    "for r in q2:\n",
    "    print(r)"
   ]
  },
  {
   "cell_type": "code",
   "execution_count": null,
   "id": "8e42c627",
   "metadata": {},
   "outputs": [],
   "source": [
    "# alt: trade symbol holdings with qty <> 0 (\"short or long position open at balance date\")\n",
    "q = (db.session\n",
    "     .query(Trade.Symbol, func.sum(Trade.Quantity).label(\"sum\"))\n",
    "     .group_by(Trade.Symbol)\n",
    "     .order_by(Trade.Symbol).subquery()\n",
    "    )\n",
    "q2 = db.session.query(q.c.Symbol, q.c.sum).filter(not_(q.c.sum == Decimal(0)))\n",
    "for r in q2:\n",
    "    print(r)"
   ]
  },
  {
   "cell_type": "code",
   "execution_count": null,
   "id": "68576bfb",
   "metadata": {},
   "outputs": [],
   "source": [
    "# NOTE: EUR.USD included in the above, need to factor in FIAT DepositWithdrawals"
   ]
  },
  {
   "cell_type": "code",
   "execution_count": null,
   "id": "76e28248",
   "metadata": {},
   "outputs": [],
   "source": [
    "db.session.query(DepositsWithdrawals).all()"
   ]
  },
  {
   "cell_type": "code",
   "execution_count": null,
   "id": "6678d1a7",
   "metadata": {},
   "outputs": [],
   "source": [
    "db.session.query(DepositsWithdrawals.Currency, func.sum(DepositsWithdrawals.Amount)).group_by(DepositsWithdrawals.Currency).all()"
   ]
  },
  {
   "cell_type": "code",
   "execution_count": null,
   "id": "51f24c99",
   "metadata": {},
   "outputs": [],
   "source": [
    "# Open positions\n",
    "db.session.query(OpenPositions.Symbol, OpenPositions.Quantity).order_by(OpenPositions.Symbol).all()"
   ]
  },
  {
   "cell_type": "code",
   "execution_count": null,
   "id": "8a4419f0",
   "metadata": {},
   "outputs": [],
   "source": [
    "# trade symbols totals\n",
    "q = (db.session\n",
    "     .query(\n",
    "         Trade.Symbol,\n",
    "         func.sum(Trade.Quantity).label(\"quantity\"),\n",
    "         func.sum(Trade.Proceeds).label(\"proceeds\"),\n",
    "         func.sum(Trade.CommOrFee).label(\"comm_or_fee\"),\n",
    "         func.sum(Trade.Basis).label(\"basis\"),\n",
    "         func.sum(Trade.Realized_PnL).label(\"realized\"),\n",
    "         func.sum(Trade.Realized_PnL_pct).label(\"realized_pct\"),\n",
    "         func.sum(Trade.MTM_PnL).label(\"mtm_pnl\"),\n",
    "         func.sum(Trade.Comm_in_USD).label(\"comm_USD\"),\n",
    "         func.sum(Trade.MTM_in_USD).label(\"MTM_USD\"),    \n",
    "     )\n",
    "     .group_by(Trade.Symbol)\n",
    "     .order_by(Trade.Symbol)\n",
    "    )\n",
    "for r in q:\n",
    "    print(r)"
   ]
  },
  {
   "cell_type": "code",
   "execution_count": null,
   "id": "7566e02e",
   "metadata": {},
   "outputs": [],
   "source": [
    "# Equity/ Open positions balance, value and value in local currency @ statement period end date\n",
    "q = (\n",
    "    db.session\n",
    "    .query(OpenPositions.Symbol, OpenPositions.Quantity, OpenPositions.Mult, OpenPositions.Value)\n",
    "    .order_by(OpenPositions.Symbol)\n",
    ")\n",
    "for symbol, quantity, multiplier, value in q:\n",
    "    print(\n",
    "        f\"{quantity} {symbol} @ {value} {BASE_CURRENCY}/ \"\n",
    "        f\"{(value * EOY_BASE_LOCAL).quantize(Decimal('1.00'))} {LOCAL_CURRENCY}\"\n",
    "    )\n",
    "    "
   ]
  },
  {
   "cell_type": "code",
   "execution_count": null,
   "id": "e3e3e2a9",
   "metadata": {},
   "outputs": [],
   "source": [
    "# Cash balance, note that description is for the FIAT wheres Currency == base currecny\n",
    "for currency, qty, close_value_in_base_at_statement_end in db.session.query(ForexBalance.Description, ForexBalance.Quantity, ForexBalance.Close_Price):\n",
    "    print(\n",
    "        f\"{qty} {currency}: {(qty * close_value_in_base_at_statement_end).quantize(Decimal('1.00'))} {BASE_CURRENCY}/ \"\n",
    "        f\"{(qty * close_value_in_base_at_statement_end * EOY_BASE_LOCAL).quantize(Decimal('1.00'))} {LOCAL_CURRENCY}\")"
   ]
  },
  {
   "cell_type": "code",
   "execution_count": null,
   "id": "c5a37412",
   "metadata": {},
   "outputs": [],
   "source": []
  },
  {
   "cell_type": "code",
   "execution_count": null,
   "id": "3613f399",
   "metadata": {},
   "outputs": [],
   "source": [
    "def print_trade(trade):\n",
    "    print(\"TRADE ----\")\n",
    "    print(\n",
    "        f\"ID {trade.id} Symbol {trade.Symbol}, Type {TradeType(trade.type).value}, proceeds {trade.Proceeds}\"\n",
    "        f\"real pnl {trade.Realized_PnL}, basis {trade.Basis}, C_price {trade.C_Price}, \"\n",
    "        f\"T price {trade.T_Price}, quantity {trade.Quantity}, CommorFee {trade.CommOrFee}\"\n",
    "        f\"Comm usd {trade.Comm_in_USD}\"\n",
    "        f\"Proceeds + Comm {trade.Proceeds + trade.CommOrFee} vs {-trade.Basis + trade.Realized_PnL} basis + pnl\"\n",
    "    )\n",
    "    '''\n",
    "    Quantity = Column(Numeric(6, 2))\n",
    "    Proceeds = Column(Numeric(6, 2))\n",
    "    MTM_PnL = Column(Numeric(6, 2))\n",
    "    MTM_in_USD = Column(Numeric(6, 2))\n",
    "    DateTime = Column(DateTime, nullable=False)'''"
   ]
  },
  {
   "cell_type": "code",
   "execution_count": null,
   "id": "b557ff38",
   "metadata": {},
   "outputs": [],
   "source": [
    "print_trade(db.session.query(Trade).get(95))"
   ]
  },
  {
   "cell_type": "code",
   "execution_count": null,
   "id": "8131ee64",
   "metadata": {},
   "outputs": [],
   "source": [
    "atrade = db.session.query(Trade).first()\n",
    "atrade.id"
   ]
  },
  {
   "cell_type": "code",
   "execution_count": null,
   "id": "85d78276",
   "metadata": {},
   "outputs": [],
   "source": [
    "atrade.Quantity"
   ]
  },
  {
   "cell_type": "code",
   "execution_count": null,
   "id": "05e84de3",
   "metadata": {},
   "outputs": [],
   "source": [
    "atrade.Quantity = Decimal(100)"
   ]
  },
  {
   "cell_type": "code",
   "execution_count": null,
   "id": "730ec1d1",
   "metadata": {},
   "outputs": [],
   "source": [
    "db.session.commit()"
   ]
  },
  {
   "cell_type": "code",
   "execution_count": null,
   "id": "2d4c928d",
   "metadata": {},
   "outputs": [],
   "source": [
    "def show_trade_deltas():\n",
    "    \"\"\"\n",
    "    Show the per symbol trade quantities sorted by date\n",
    "    while tracking running total of balance\n",
    "    \"\"\"\n",
    "    q = (\n",
    "        db.session.query(\n",
    "            Trade.Symbol, \n",
    "            func.extract(\"month\", Trade.DateTime),\n",
    "            func.extract(\"day\", Trade.DateTime),\n",
    "            #Trade.DateTime, \n",
    "            Trade.Quantity,\n",
    "            Trade.Basis,\n",
    "            func.sum(Trade.Quantity).over(\n",
    "                partition_by=Trade.Symbol, order_by=(Trade.DateTime)).label(\"Balance\"),\n",
    "            func.sum(Trade.Basis / Trade.Quantity).over(\n",
    "                partition_by=Trade.Symbol, order_by=(Trade.DateTime)).label(\"AvgPrice\"),\n",
    "            #Trade.QuoteInLocalCurrency #, Trade.Proceeds, Trade.CommOrFee\n",
    "        )\n",
    "    )\n",
    "    for row in q:\n",
    "        print(row)"
   ]
  },
  {
   "cell_type": "code",
   "execution_count": null,
   "id": "4cd2f16f",
   "metadata": {},
   "outputs": [],
   "source": [
    "show_trade_deltas()"
   ]
  },
  {
   "cell_type": "markdown",
   "id": "da0fc94a",
   "metadata": {},
   "source": [
    "## Table tries\n",
    "- buys: avg entry: Quantity, Basis, balance, lag balance, "
   ]
  },
  {
   "cell_type": "code",
   "execution_count": null,
   "id": "db7c37ba",
   "metadata": {},
   "outputs": [],
   "source": [
    "# DCA price - wrong, do not take the sells in the dca price\n",
    "q = (\n",
    "    db.session.query(\n",
    "        Trade.Symbol,\n",
    "        (func.sum(Trade.Basis).over(\n",
    "            partition_by=Trade.Symbol, order_by=(Trade.DateTime)) /\n",
    "        func.sum(Trade.Quantity).over(\n",
    "            partition_by=Trade.Symbol, order_by=(Trade.DateTime))).label('dca_price')\n",
    "    )\n",
    ")"
   ]
  },
  {
   "cell_type": "code",
   "execution_count": null,
   "id": "9737faf9",
   "metadata": {},
   "outputs": [],
   "source": [
    "for row in q:\n",
    "    print(row)"
   ]
  },
  {
   "cell_type": "code",
   "execution_count": null,
   "id": "79559bc0",
   "metadata": {},
   "outputs": [],
   "source": [
    "# avg entry - on buys only\n",
    "# challenge, need balance taking into account both buys and sells whereas calc only to apply on buys\n",
    "# new avg = (basis + old_avg * old_bal) / balance\n",
    "buys = (\n",
    "    db.session.query(\n",
    "        Trade.Basis.label('basis'),\n",
    "        Trade.id.label('id'),\n",
    "        (Trade.Basis / Trade.Quantity).label('buy_avg')\n",
    "    )\n",
    "    .filter(Trade.Quantity > Decimal(0))\n",
    ").subquery()\n",
    "\n",
    "balq = (\n",
    "    db.session.query(\n",
    "        Trade.Symbol.label('symbol'),\n",
    "        Trade.DateTime.label('dt'),\n",
    "        Trade.Quantity.label('delta'),\n",
    "        func.sum(Trade.Quantity).over(\n",
    "            partition_by=Trade.Symbol, order_by=(Trade.DateTime)).label('balance'),\n",
    "        buys.c.basis.label('buybasis'),\n",
    "        buys.c.buy_avg.label('buy_avg')\n",
    "    )\n",
    "    .outerjoin(buys, buys.c.id==Trade.id)\n",
    ").subquery()\n",
    "balWlag = (\n",
    "    db.session.query(\n",
    "        balq.c.symbol, balq.c.delta, balq.c.balance,\n",
    "        coalesce(balq.c.buybasis, Decimal(0)),\n",
    "        balq.c.balance - balq.c.delta,\n",
    "        #func.lag(balq.c.balance, 1, 0).over(balq.c.symbol),\n",
    "        #balq.c.buy_avg,\n",
    "        coalesce(balq.c.buy_avg, Decimal(0)),\n",
    "        func.first_value(balq.c.buy_avg).over(partition_by=balq.c.symbol)\n",
    "    )\n",
    "    .order_by(balq.c.dt)\n",
    ")\n",
    "\n",
    "print('symbol, qty, bal, buybasis, prev bal, buy_avg')\n",
    "for row in balWlag:\n",
    "    print(row)\n",
    "    \n",
    "#### CHALLENGE IS TO PULL THE LAST COLUMN DATA DOWN WHEN THERE IS DECIMAL(0) characterized with id, dt << trade.id, trade.dt"
   ]
  },
  {
   "cell_type": "code",
   "execution_count": null,
   "id": "7cd57e45",
   "metadata": {},
   "outputs": [],
   "source": [
    "# avg entry case based\n",
    "from sqlalchemy import case, literal\n",
    "\n",
    "q = (\n",
    "    db.session.query(\n",
    "        Trade.DateTime.label('dt'),\n",
    "        Trade.Symbol.label('asset'),\n",
    "        Trade.Quantity.label('delta'),\n",
    "        func.sum(Trade.Quantity).over(partition_by=Trade.Symbol, order_by=Trade.DateTime).label('balance'),\n",
    "        case([(Trade.Quantity > Decimal(0), Trade.Basis),],\n",
    "        else_ = func.lag(Trade.Basis, 1, 0).over(partition_by=Trade.Symbol, order_by=Trade.DateTime) #literal(0)\n",
    "        ).label('basis'),  # basis for buys or prev buy basis\n",
    "        case([(Trade.Quantity > Decimal(0), Trade.Basis/ Trade.Quantity),],\n",
    "        else_ = literal(0)\n",
    "        ).label('avg_entry') # avg entry\n",
    "    )\n",
    ").subquery()\n",
    "\n",
    "q2 = (\n",
    "    db.session.query(\n",
    "        q.c.asset.label('asset'),\n",
    "        q.c.delta.label('delta'),\n",
    "        q.c.balance.label('balance'),\n",
    "        (q.c.balance - q.c.delta).label('old_balance'),\n",
    "        q.c.basis.label('basis'),\n",
    "        func.lag(q.c.basis,1,0).over(partition_by=q.c.asset).label('old_basis'),\n",
    "        case([(q.c.avg_entry != literal(0), q.c.avg_entry),],\n",
    "        else_ = func.lag(q.c.avg_entry, 1, 0).over(partition_by=q.c.asset, order_by=q.c.dt) #literal(0)\n",
    "        ).label('avg_entry')\n",
    "        #coalesce(q.c.avg_entry.label('avg_entry'), func.lag(q.c.avg_entry,1,0).over(partition_by=q.c.asset, order_by=q.c.dt))\n",
    "    ).order_by(q.c.dt)\n",
    ").subquery()\n",
    "\n",
    "q3 = (\n",
    "    db.session.query(\n",
    "        q2.c.asset.label('asset'),\n",
    "        q2.c.delta.label('delta'),\n",
    "        q2.c.balance.label('balance'),\n",
    "        case([(q2.c.delta > Decimal(0), (q2.c.basis + q2.c.old_balance * q2.c.avg_entry)/q2.c.balance),],\n",
    "        else_ = literal(0)\n",
    "        ).label('avg_entry')\n",
    "              \n",
    "    )\n",
    ")\n",
    "for row in q3:\n",
    "    print(row)\n"
   ]
  },
  {
   "cell_type": "code",
   "execution_count": null,
   "id": "47b15828",
   "metadata": {},
   "outputs": [],
   "source": []
  },
  {
   "cell_type": "code",
   "execution_count": null,
   "id": "80ea5855",
   "metadata": {},
   "outputs": [],
   "source": [
    "q1 = (\n",
    "    db.session\n",
    "    .query(\n",
    "        Trade.id.label('id'),\n",
    "        func.sum(Trade.Basis/ Trade.Quantity).over(\n",
    "            partition_by=Trade.Symbol, order_by=(Trade.DateTime)).label(\"avg_entry\")\n",
    "        \n",
    "    )\n",
    "    .filter(Trade.type==TradeType.STOCKS, Trade.Quantity > Decimal(\"0\"))\n",
    ").subquery()\n",
    "\n",
    "q2 = (\n",
    "    db.session.query(\n",
    "        Trade.Symbol, \n",
    "        func.extract(\"month\", Trade.DateTime),\n",
    "        func.extract(\"day\", Trade.DateTime),\n",
    "        #Trade.DateTime, \n",
    "        Trade.Quantity,\n",
    "        func.sum(Trade.Quantity).over(\n",
    "            partition_by=Trade.Symbol, order_by=(Trade.DateTime)).label(\"balance\"),\n",
    "        func.lag(q1)\n",
    "    .outerjoin()\n",
    ")\n",
    "for row in q1:\n",
    "    print(row)"
   ]
  },
  {
   "cell_type": "code",
   "execution_count": null,
   "id": "ea2dc095",
   "metadata": {},
   "outputs": [],
   "source": [
    "q1 = (\n",
    "    db.session\n",
    "    .query(\n",
    "        Trade.id.label('id'),\n",
    "        Trade.Symbol.label('symbol'),\n",
    "        func.extract('day', Trade.DateTime).label('day'), \n",
    "        Trade.Quantity.label('q'),\n",
    "        Trade.Basis.label('basis'),\n",
    "        func.sum(Trade.Quantity).over(\n",
    "            partition_by=Trade.Symbol, order_by=(Trade.DateTime)).label(\"balance\"),\n",
    "        func.sum(Trade.Basis/ Trade.Quantity).over(\n",
    "            partition_by=Trade.Symbol, order_by=(Trade.DateTime)).label(\"avg_entry\")\n",
    "        \n",
    "    )\n",
    "    .filter(Trade.Quantity > Decimal(\"0\"))\n",
    "    #.order_by(Trade.Symbol, Trade.DateTime)\n",
    ").subquery()\n",
    "\n",
    "q2 = (\n",
    "    db.session.query(\n",
    "        Trade.Symbol, \n",
    "        func.extract(\"month\", Trade.DateTime),\n",
    "        func.extract(\"day\", Trade.DateTime),\n",
    "        #Trade.DateTime, \n",
    "        Trade.Quantity,\n",
    "        Trade.Basis,\n",
    "        func.sum(Trade.Quantity).over(\n",
    "            partition_by=Trade.Symbol, order_by=(Trade.DateTime)).label(\"balance\"),\n",
    "        q1.c.avg_entry,\n",
    "        q1.c.avg_entry + func.lag(q1.c.avg_entry, 1, 0).over(partition_by=Trade.Symbol)\n",
    "    )\n",
    "    .outerjoin(q1, q1.c.id==Trade.id)\n",
    "    .filter(Trade.type==TradeType.STOCKS)\n",
    "    .order_by(Trade.Symbol, Trade.DateTime)\n",
    ")\n",
    "for row in q2:\n",
    "    print(row)"
   ]
  },
  {
   "cell_type": "code",
   "execution_count": null,
   "id": "94cfb20d",
   "metadata": {},
   "outputs": [],
   "source": [
    "(\n",
    "    db.session.query(\n",
    "        Trade.id, Trade.Symbol,\n",
    "        func.lag(Trade.id, 1, 1).over(partition_by=Trade.Symbol))\n",
    ").all()"
   ]
  },
  {
   "cell_type": "code",
   "execution_count": null,
   "id": "facd096e",
   "metadata": {},
   "outputs": [],
   "source": [
    "(\n",
    "    db.session.query(\n",
    "        Trade.id,\n",
    "        case([(Trade.id % 2 == 0, Trade.id),],\n",
    "             else_=func.lag(Trade.id,1,0).over(order_by=Trade.id)\n",
    "            ),\n",
    "        func.lag(Trade.id,1,0).over(order_by=Trade.id)\n",
    "        \n",
    "        \n",
    "    )\n",
    ").all()"
   ]
  },
  {
   "cell_type": "code",
   "execution_count": null,
   "id": "70145faf",
   "metadata": {},
   "outputs": [],
   "source": [
    "# Trailing basis of last bought\n",
    "(\n",
    "    db.session.query(\n",
    "        Trade.Symbol,\n",
    "        Trade.Quantity,\n",
    "        case([(Trade.Quantity > Decimal(0), Trade.Basis),],\n",
    "             else_=func.lag(Trade.Basis,1,0).over(partition_by=Trade.Symbol, order_by=Trade.DateTime)\n",
    "            ),\n",
    "    )\n",
    "    .order_by(Trade.Symbol)\n",
    ").all()"
   ]
  },
  {
   "cell_type": "code",
   "execution_count": null,
   "id": "d708f7c7",
   "metadata": {},
   "outputs": [],
   "source": [
    "# Trailing avg_price of last bought\n",
    "(\n",
    "    db.session.query(\n",
    "        Trade.Symbol,\n",
    "        Trade.Quantity,\n",
    "        case([(Trade.Quantity > Decimal(0), Trade.Basis),],\n",
    "             else_=func.lag(Trade.Basis,1,0).over(partition_by=Trade.Symbol, order_by=Trade.DateTime)\n",
    "            ),\n",
    "        case([(Trade.Quantity > Decimal(0), Trade.Basis / Trade.Quantity),],\n",
    "             else_=func.lag(Trade.Basis / Trade.Quantity,1,0).over(partition_by=Trade.Symbol, order_by=Trade.DateTime)\n",
    "            ),\n",
    "    )\n",
    "    .order_by(Trade.Symbol)\n",
    ").all()"
   ]
  },
  {
   "cell_type": "code",
   "execution_count": null,
   "id": "062af889",
   "metadata": {},
   "outputs": [],
   "source": [
    "# delta, balance, old_balance, most recent buy basis, most recent avg price\n",
    "(\n",
    "    db.session.query(\n",
    "        Trade.Symbol.label('asset'),\n",
    "        Trade.Quantity.label('delta'),\n",
    "        func.sum(Trade.Quantity).over(partition_by=Trade.Symbol, order_by=Trade.DateTime).label('balance'),\n",
    "        (func.sum(Trade.Quantity).over(partition_by=Trade.Symbol, order_by=Trade.DateTime) - Trade.Quantity).label('prev_balance'),\n",
    "        case([(Trade.Quantity > Decimal(0), Trade.Basis),],\n",
    "             else_=func.lag(Trade.Basis,1,0).over(partition_by=Trade.Symbol, order_by=Trade.DateTime)\n",
    "            ).label('last_buy_basis'),\n",
    "        case([(Trade.Quantity > Decimal(0), Trade.Basis / Trade.Quantity),],\n",
    "             else_=func.lag(Trade.Basis / Trade.Quantity,1,0).over(partition_by=Trade.Symbol, order_by=Trade.DateTime)\n",
    "            ).label('last_avg_buy_price'),\n",
    "    )\n",
    "    .order_by(Trade.Symbol)\n",
    "\n",
    ").all()"
   ]
  },
  {
   "cell_type": "code",
   "execution_count": null,
   "id": "8542fce9",
   "metadata": {},
   "outputs": [],
   "source": [
    "# delta, balance, old_balance, most recent buy basis, most recent avg price subquery \n",
    "# with main query tracking change in avg price\n",
    "q = (\n",
    "    db.session.query(\n",
    "        Trade.DateTime.label('dt'),\n",
    "        Trade.Symbol.label('asset'),\n",
    "        Trade.Quantity.label('delta'),\n",
    "        func.sum(Trade.Quantity).over(partition_by=Trade.Symbol, order_by=Trade.DateTime).label('balance'),\n",
    "        (func.sum(Trade.Quantity).over(partition_by=Trade.Symbol, order_by=Trade.DateTime) - Trade.Quantity).label('prev_balance'),\n",
    "        case([(Trade.Quantity > Decimal(0), Trade.Basis),],\n",
    "             else_=func.lag(Trade.Basis,1,0).over(partition_by=Trade.Symbol, order_by=Trade.DateTime)\n",
    "            ).label('last_buy_basis'),\n",
    "        case([(Trade.Quantity > Decimal(0), Trade.Basis / Trade.Quantity),],\n",
    "             else_=func.lag(Trade.Basis / Trade.Quantity,1,0).over(partition_by=Trade.Symbol, order_by=Trade.DateTime)\n",
    "            ).label('last_avg_buy_price'),\n",
    "    )\n",
    "    .order_by(Trade.Symbol)\n",
    "\n",
    ").subquery()\n",
    "q2 = (\n",
    "    db.session.query(\n",
    "        q.c.asset.label('asset'), q.c.delta.label('delta'), q.c.balance.label('balance'), \n",
    "        q.c.last_buy_basis.label('last_buy_basis'), q.c.prev_balance.label('prev_balance'),\n",
    "        func.lag(q.c.last_avg_buy_price,1,0).over(partition_by=q.c.asset, order_by=q.c.dt).label('prev_buy_price'),\n",
    "        case([(\n",
    "            q.c.delta > Decimal(0),\n",
    "            (q.c.last_buy_basis + q.c.prev_balance * func.lag(q.c.last_avg_buy_price,1,0).over(partition_by=q.c.asset, order_by=q.c.dt))/ q.c.balance),],\n",
    "            else_=literal(0)).label('last_avg')\n",
    "    )\n",
    "    .order_by(q.c.asset)\n",
    ")\n",
    "for row in q2:\n",
    "    print(row)\n",
    "    \n",
    "# NOW MAKE THE LAST COL STICKY"
   ]
  },
  {
   "cell_type": "code",
   "execution_count": null,
   "id": "fd43ed5e",
   "metadata": {},
   "outputs": [],
   "source": [
    "def cost_basis_query(session):\n",
    "    \"\"\"\n",
    "    Return query that provides id, asset, delta, balance, average cost price in base\n",
    "    currency and average cost price in local currency\n",
    "    Provides a means to derive pnl_base and pnl_local from\n",
    "    \"\"\"\n",
    "    q = (\n",
    "            session.query(\n",
    "                Trade.id.label('id'),\n",
    "                Trade.DateTime.label('dt'),\n",
    "                Trade.Symbol.label('asset'),\n",
    "                Trade.Quantity.label('delta'),\n",
    "                #Trade.QuoteInLocalCurrency.label('forex_rate'),\n",
    "                func.sum(Trade.Quantity).over(partition_by=Trade.Symbol, order_by=Trade.DateTime).label('balance'),\n",
    "                (\n",
    "                    (func.sum(Trade.Quantity)\n",
    "                     .over(partition_by=Trade.Symbol, order_by=Trade.DateTime) - Trade.Quantity).label('prev_balance')\n",
    "                ),\n",
    "                case([(Trade.Quantity > Decimal(0), Trade.Basis),],\n",
    "                     else_=func.lag(Trade.Basis,1,0).over(partition_by=Trade.Symbol, order_by=Trade.DateTime)\n",
    "                    ).label('last_buy_basis'),\n",
    "                case([(Trade.Quantity > Decimal(0), Trade.Basis * Trade.QuoteInLocalCurrency),],\n",
    "                     else_=func.lag(Trade.Basis * Trade.QuoteInLocalCurrency,1,0).over(partition_by=Trade.Symbol, order_by=Trade.DateTime)\n",
    "                    ).label('last_buy_basis_local'),\n",
    "                case([(Trade.Quantity > Decimal(0), Trade.Basis / Trade.Quantity),],\n",
    "                     else_=(\n",
    "                         func.lag(Trade.Basis / Trade.Quantity,1,0)\n",
    "                         .over(\n",
    "                             partition_by=Trade.Symbol,\n",
    "                             order_by=Trade.DateTime))\n",
    "                    ).label('last_avg_buy_price'),\n",
    "                case([(Trade.Quantity > Decimal(0), Trade.Basis * Trade.QuoteInLocalCurrency / Trade.Quantity),],\n",
    "                     else_=(\n",
    "                         func.lag(Trade.Basis * Trade.QuoteInLocalCurrency / Trade.Quantity,1,0)\n",
    "                         .over(\n",
    "                             partition_by=Trade.Symbol,\n",
    "                             order_by=Trade.DateTime))\n",
    "                    ).label('last_avg_buy_price_local'),\n",
    "            )\n",
    "            .order_by(Trade.Symbol, Trade.DateTime)\n",
    "\n",
    "        ).subquery()\n",
    "    q2 = (\n",
    "        session.query(\n",
    "            q.c.id.label('id'),\n",
    "            #q.c.forex_rate.label('forex_rate'),\n",
    "            q.c.dt.label('dt'), q.c.asset.label('asset'), q.c.delta.label('delta'), q.c.balance.label('balance'), \n",
    "            q.c.last_buy_basis.label('last_buy_basis'), q.c.prev_balance.label('prev_balance'),\n",
    "            q.c.last_buy_basis_local.label('last_buy_basis_local'),\n",
    "            q.c.last_avg_buy_price_local.label('last_avg_buy_price_local'),\n",
    "            func.lag(q.c.last_avg_buy_price,1,0).over(partition_by=q.c.asset, order_by=q.c.dt).label('prev_buy_price'),\n",
    "            func.lag(q.c.last_avg_buy_price_local,1,0).over(partition_by=q.c.asset, order_by=q.c.dt).label('prev_buy_price_local'),\n",
    "            case([(\n",
    "                q.c.delta > Decimal(0),\n",
    "                (q.c.last_buy_basis + q.c.prev_balance * func.lag(q.c.last_avg_buy_price,1,0).over(partition_by=q.c.asset, order_by=q.c.dt))/ q.c.balance),],\n",
    "                else_=literal(0)).label('last_avg'),\n",
    "            case([(\n",
    "                q.c.delta > Decimal(0),\n",
    "                (q.c.last_buy_basis_local + q.c.prev_balance * func.lag(q.c.last_avg_buy_price_local,1,0).over(partition_by=q.c.asset, order_by=q.c.dt))/ q.c.balance),],\n",
    "                else_=literal(0)).label('last_avg_local')\n",
    "        )\n",
    "        .order_by(q.c.asset, q.c.dt)\n",
    "    ).subquery()\n",
    "    q3 = (\n",
    "        session.query(\n",
    "            q2.c.id.label('id'),\n",
    "            #q2.c.forex_rate.label('forex_rate')\n",
    "            q2.c.asset.label('asset'), \n",
    "            q2.c.delta.label('delta'), \n",
    "            q2.c.balance.label('balance'),\n",
    "            case([(\n",
    "                q2.c.last_avg != literal(0), q2.c.last_avg),],\n",
    "                else_=func.lag(q2.c.last_avg,1,0).over(partition_by=q2.c.asset, order_by=q2.c.dt)\n",
    "            ).label('cost_price_base'),\n",
    "            case([(\n",
    "                q2.c.last_avg_local != literal(0), q2.c.last_avg_local),],\n",
    "                else_=func.lag(q2.c.last_avg_local,1,0).over(partition_by=q2.c.asset, order_by=q2.c.dt)\n",
    "            ).label('cost_price_local')\n",
    "        )\n",
    "        .order_by(q2.c.asset, q2.c.dt)\n",
    "    )\n",
    "    return q3\n"
   ]
  },
  {
   "cell_type": "code",
   "execution_count": null,
   "id": "f4b7ace2",
   "metadata": {},
   "outputs": [],
   "source": [
    "for row in cost_basis_query(db.session):\n",
    "    print(row)"
   ]
  },
  {
   "cell_type": "code",
   "execution_count": null,
   "id": "0daac608",
   "metadata": {},
   "outputs": [],
   "source": [
    "def calc_pnl(session):\n",
    "    \"\"\"\n",
    "    calculate the pnl for trades on the basis of the average cost basis (buy) price\n",
    "    \"\"\"\n",
    "    cb = cost_basis_query(session).subquery()\n",
    "    sells = (\n",
    "        session.query(\n",
    "            Trade.id, Trade.DateTime,\n",
    "            Trade.T_Price.label(\"sell_price\"),\n",
    "            Trade.QuoteInLocalCurrency.label(\"forex\"),\n",
    "            cb.c.asset, cb.c.delta, cb.c.balance, cb.c.cost_price_base, cb.c.cost_price_local\n",
    "        )\n",
    "        .filter(Trade.Quantity < Decimal(0))\n",
    "        .outerjoin(cb, cb.c.id==Trade.id)\n",
    "    )\n",
    "    for _id, _dt, _sell_price, _forex, _asset, _delta, _balance, _cost_price_base, _cost_price_local in sells:\n",
    "        print(\n",
    "            f\"TRADE {_id} {_delta} {_asset} PNL {_delta * (_sell_price - _cost_price_base)}\"\n",
    "            f\" PNL LOCAL {_delta * (_sell_price * _forex - _cost_price_local)}\"\n",
    "        )"
   ]
  },
  {
   "cell_type": "code",
   "execution_count": null,
   "id": "ffb168b3",
   "metadata": {},
   "outputs": [],
   "source": [
    "calc_pnl(db.session)"
   ]
  },
  {
   "cell_type": "code",
   "execution_count": null,
   "id": "134c4e3f",
   "metadata": {},
   "outputs": [],
   "source": [
    "# delta, balance, old_balance, most recent buy basis, most recent avg price subquery \n",
    "# with main query tracking change in avg price\n",
    "q = (\n",
    "    db.session.query(\n",
    "        Trade.DateTime.label('dt'),\n",
    "        Trade.Symbol.label('asset'),\n",
    "        Trade.Quantity.label('delta'),\n",
    "        func.sum(Trade.Quantity).over(partition_by=Trade.Symbol, order_by=Trade.DateTime).label('balance'),\n",
    "        (\n",
    "            (func.sum(Trade.Quantity)\n",
    "             .over(partition_by=Trade.Symbol, order_by=Trade.DateTime) - Trade.Quantity).label('prev_balance')\n",
    "        ),\n",
    "        case([(Trade.Quantity > Decimal(0), Trade.Basis),],\n",
    "             else_=func.lag(Trade.Basis,1,0).over(partition_by=Trade.Symbol, order_by=Trade.DateTime)\n",
    "            ).label('last_buy_basis'),\n",
    "        case([(Trade.Quantity > Decimal(0), Trade.Basis / Trade.Quantity),],\n",
    "             else_=(\n",
    "                 func.lag(Trade.Basis / Trade.Quantity,1,0)\n",
    "                 .over(\n",
    "                     partition_by=Trade.Symbol,\n",
    "                     order_by=Trade.DateTime))\n",
    "            ).label('last_avg_buy_price'),\n",
    "    )\n",
    "    .order_by(Trade.Symbol, Trade.DateTime)\n",
    "\n",
    ").subquery()\n",
    "q2 = (\n",
    "    db.session.query(\n",
    "        q.c.dt.label('dt'), q.c.asset.label('asset'), q.c.delta.label('delta'), q.c.balance.label('balance'), \n",
    "        q.c.last_buy_basis.label('last_buy_basis'), q.c.prev_balance.label('prev_balance'),\n",
    "        func.lag(q.c.last_avg_buy_price,1,0).over(partition_by=q.c.asset, order_by=q.c.dt).label('prev_buy_price'),\n",
    "        case([(\n",
    "            q.c.delta > Decimal(0),\n",
    "            (q.c.last_buy_basis + q.c.prev_balance * func.lag(q.c.last_avg_buy_price,1,0).over(partition_by=q.c.asset, order_by=q.c.dt))/ q.c.balance),],\n",
    "            else_=literal(0)).label('last_avg')\n",
    "    )\n",
    "    .order_by(q.c.asset)\n",
    ").subquery()\n",
    "q3 = (\n",
    "    db.session.query(\n",
    "        q2.c.asset, q2.c.delta, q2.c.balance,\n",
    "        case([(\n",
    "            q2.c.last_avg != literal(0), q2.c.last_avg),],\n",
    "            else_=func.lag(q2.c.last_avg,1,0).over(partition_by=q2.c.asset, order_by=q2.c.dt)\n",
    "        )\n",
    "    )\n",
    "    .order_by(q2.c.asset)\n",
    ")\n",
    "for row in q3:\n",
    "    print(row)"
   ]
  },
  {
   "cell_type": "markdown",
   "id": "c452b20d",
   "metadata": {},
   "source": [
    "# New idea on PNL comparison basis\n",
    "## Challenge\n",
    "- deltas, balance and prev balance can be tracked across buys/ sells, include all model.ids\n",
    "- avg basis can be tracked across buys, do not include model.id for sells\n",
    "- pnl must be tracked for sells but do not include model.id for buys\n",
    "- **merge all on the deltas table**\n",
    "\n",
    "- track the sum weighted average basis * forex rate over time in separate table and join on last aggregate"
   ]
  },
  {
   "cell_type": "code",
   "execution_count": null,
   "id": "1b8bdbbe",
   "metadata": {},
   "outputs": [],
   "source": [
    "session = db2.session\n",
    "\n",
    "buys = (\n",
    "    session.query(\n",
    "        Trade.id.label('id'), Trade.Basis.label('basis'), Trade.QuoteInLocalCurrency.label('forex'),\n",
    "        (Trade.Basis / Trade.Quantity).label('buy_price')\n",
    "    )\n",
    "    .filter(Trade.Quantity > Decimal(0))\n",
    ").subquery()\n",
    "\n",
    "sells = (\n",
    "    session.query(\n",
    "        Trade.id.label('id'), Trade.T_Price.label('sell_price'), \n",
    "        Trade.Basis.label('basis'), Trade.QuoteInLocalCurrency.label('forex'),\n",
    "        Trade.Realized_PnL.label('pnl')\n",
    "    )\n",
    "    .filter(Trade.Quantity < Decimal(0))\n",
    ").subquery()\n",
    "\n",
    "deltas = (\n",
    "    session.query(\n",
    "        Trade.id.label('id'),\n",
    "        Trade.Symbol.label('asset'),\n",
    "        Trade.Quantity.label('delta'),\n",
    "        func.sum(Trade.Quantity).over(partition_by=Trade.Symbol, order_by=Trade.DateTime).label('balance'),\n",
    "        (func.sum(Trade.Quantity).over(partition_by=Trade.Symbol, order_by=Trade.DateTime) - Trade.Quantity).label('prev_balance'),\n",
    "    )\n",
    "    .group_by(Trade.Symbol, Trade.DateTime)\n",
    ").subquery()\n",
    "\n",
    "d1 = aliased(deltas)\n",
    "d2 = aliased(deltas)\n",
    "\n",
    "# buys - w average price based on lagging price\n",
    "buy1 = (\n",
    "    session.query(\n",
    "        d1.c.id.label('id'), d1.c.asset.label('asset'), d1.c.delta.label('delta'), \n",
    "        buys.c.buy_price.label('buy_price'),\n",
    "        d1.c.balance.label('balance'), d1.c.prev_balance.label('prev_balance'),\n",
    "        func.lag(buys.c.buy_price, 1, 0).over(partition_by=d1.c.asset, order_by=d1.c.id).label('prev_buy'),\n",
    "        (\n",
    "            (buys.c.basis + d1.c.prev_balance * func.lag(buys.c.buy_price, 1, 0).over(partition_by=d1.c.asset, order_by=d1.c.id)) / d1.c.balance).label('avg_cost_price')\n",
    "    )\n",
    "    .outerjoin(d1, d1.c.id==buys.c.id)\n",
    "    .order_by(d1.c.asset, d1.c.id)\n",
    ").subquery()\n",
    "#for _id, _asset, _delta, _buy_price, _balance, _prev_balance, _prev_buy, _avg_cost_price in buy1:\n",
    "#    print(f\"{_asset} {_prev_balance} {_delta} {_buy_price} {_balance} {_avg_cost_price}\")\n",
    "\n",
    "# DONT KNOW IF THIS TRACK THE PRICE PROPERLY\n",
    "# id-table with lagging avg_cost_price\n",
    "merge = (\n",
    "    session.query(\n",
    "        d2.c.id.label('id'), d2.c.asset.label('asset'), d2.c.delta.label('delta'),\n",
    "        buy1.c.avg_cost_price.label('avg_cost_price'), buy1.c.id.label('bid')\n",
    "    )\n",
    "    .outerjoin(buy1, buy1.c.id==d2.c.id)\n",
    ").subquery()\n",
    "\n",
    "\n",
    "\n",
    "#for row in merge:\n",
    "#    print(row)\n",
    "\n",
    "# create table: for each id, find relevant id of buy to use\n",
    "# i.d. if id 6 and id 11 == buy, the merge table id 6 == buy id 6, .. merge table id 10== buy id 6 \n",
    "# and merge table id 11== buy id 11\n",
    "# this is then used to fetch the avg price by joining on column with buy.c.id == merge_table_id for merge id\n",
    "'''\n",
    "\n",
    "users_cte = select([users.c.id, users.c.name]).where(users.c.name == 'wendy').cte()\n",
    "\n",
    "WITH FormattedT1 AS\n",
    "(\n",
    "    SELECT Countryid, Stateid, Value, ROW_NUMBER() OVER(PARTITION BY Countryid ORDER BY ...) AS num\n",
    "    FROM T1\n",
    "    WHERE Value > 0\n",
    ")\n",
    "SELECT Countryid, Stateid, Value\n",
    "FROM FormattedT1\n",
    "WHERE num = 1\n",
    "'''\n"
   ]
  },
  {
   "cell_type": "raw",
   "id": "b96b6b90",
   "metadata": {},
   "source": [
    "SELECT \n",
    "    anon_1.id AS id, anon_1.asset AS asset, anon_1.delta AS delta, \n",
    "    anon_2.avg_cost_price AS avg_cost_price, anon_2.id AS bid \n",
    "FROM \n",
    "    (SELECT \n",
    "        trade.id AS id, trade.\"Symbol\" AS asset, trade.\"Quantity\" AS delta, \n",
    "                sum(trade.\"Quantity\") OVER (PARTITION BY trade.\"Symbol\" ORDER BY trade.\"DateTime\") AS balance\n",
    "                            sum(trade.\"Quantity\") OVER (PARTITION BY trade.\"Symbol\" ORDER BY trade.\"DateTime\")\n",
    "                            - trade.\"Quantity\" AS prev_balance \n",
    "    FROM trade GROUP BY trade.\"Symbol\", trade.\"DateTime\") AS anon_1 \n",
    "    LEFT OUTER JOIN \n",
    "    (SELECT anon_3.id AS id, anon_3.asset AS asset, anon_3.delta AS delta, anon_4.buy_price AS buy_price, anon_3.balance AS balance, anon_3.prev_balance AS prev_balance, lag(anon_4.buy_price, ?, ?) OVER (PARTITION BY anon_3.asset ORDER BY anon_3.id) AS prev_buy, (anon_4.basis + anon_3.prev_balance * lag(anon_4.buy_price, ?, ?) OVER (PARTITION BY anon_3.asset ORDER BY anon_3.id)) / anon_3.balance AS avg_cost_price \n",
    "FROM (SELECT trade.id AS id, trade.\"Basis\" AS basis, trade.\"QuoteInLocalCurrency\" AS forex, trade.\"Basis\" / trade.\"Quantity\" AS buy_price \n",
    "FROM trade \n",
    "WHERE trade.\"Quantity\" > ?) AS anon_4 LEFT OUTER JOIN (SELECT trade.id AS id, trade.\"Symbol\" AS asset, trade.\"Quantity\" AS delta, sum(trade.\"Quantity\") OVER (PARTITION BY trade.\"Symbol\" ORDER BY trade.\"DateTime\") AS balance, sum(trade.\"Quantity\") OVER (PARTITION BY trade.\"Symbol\" ORDER BY trade.\"DateTime\") - trade.\"Quantity\" AS prev_balance \n",
    "FROM trade GROUP BY trade.\"Symbol\", trade.\"DateTime\") AS anon_3 ON anon_3.id = anon_4.id ORDER BY anon_3.asset, anon_3.id) AS anon_2 ON anon_2.id = anon_1.id"
   ]
  },
  {
   "cell_type": "code",
   "execution_count": null,
   "id": "070aa4bb",
   "metadata": {},
   "outputs": [],
   "source": [
    "session = db.session\n",
    "\n",
    "buys = (\n",
    "    session.query(\n",
    "        Trade.id.label('id'), Trade.Basis.label('basis'), Trade.QuoteInLocalCurrency.label('forex'),\n",
    "        (Trade.Basis / Trade.Quantity).label('buy_price')\n",
    "    )\n",
    "    .filter(Trade.Quantity > Decimal(0))\n",
    ").cte()\n",
    "\n",
    "sells = (\n",
    "    session.query(\n",
    "        Trade.id.label('id'), Trade.T_Price.label('sell_price'), \n",
    "        Trade.Basis.label('basis'), Trade.QuoteInLocalCurrency.label('forex'),\n",
    "        Trade.Realized_PnL.label('pnl')\n",
    "    )\n",
    "    .filter(Trade.Quantity < Decimal(0))\n",
    ").subquery()\n",
    "\n",
    "deltas = (\n",
    "    session.query(\n",
    "        Trade.id.label('id'),\n",
    "        Trade.Symbol.label('asset'),\n",
    "        Trade.Quantity.label('delta'),\n",
    "        func.sum(Trade.Quantity).over(partition_by=Trade.Symbol, order_by=Trade.DateTime).label('balance'),\n",
    "        (func.sum(Trade.Quantity).over(partition_by=Trade.Symbol, order_by=Trade.DateTime) - Trade.Quantity).label('prev_balance'),\n",
    "    )\n",
    "    .group_by(Trade.Symbol, Trade.DateTime)\n",
    ").subquery()\n",
    "\n",
    "d1 = aliased(deltas)\n",
    "d2 = aliased(deltas)\n",
    "\n",
    "# buys - w average price based on lagging price\n",
    "buy1 = (\n",
    "    session.query(\n",
    "        d1.c.id.label('id'), d1.c.asset.label('asset'), d1.c.delta.label('delta'), \n",
    "        buys.c.buy_price.label('buy_price'),\n",
    "        (\n",
    "            (buys.c.basis + d1.c.prev_balance * func.lag(buys.c.buy_price, 1, 0).over(partition_by=d1.c.asset, order_by=d1.c.id)) / d1.c.balance).label('avg_cost_price')\n",
    "    )\n",
    "    .outerjoin(d1, d1.c.id==buys.c.id)\n",
    "    .order_by(d1.c.asset, d1.c.id)\n",
    ").cte()\n",
    "\n",
    "\n",
    "merge = (\n",
    "    session.query(\n",
    "        d2.c.id.label('id'), d2.c.asset.label('asset'), d2.c.delta.label('delta'),\n",
    "        func.max(buy1.c.avg_cost_price).over(partition_by=buy1.c.asset, order_by=buy1.c.id),\n",
    "        d2.c.delta * (sells.c.sell_price - func.max(buy1.c.avg_cost_price).over(partition_by=buy1.c.asset, order_by=buy1.c.id)), \n",
    "        sells.c.pnl\n",
    "    )\n",
    "    .join(sells, sells.c.id==d2.c.id)\n",
    "    .filter(buy1.c.id < d2.c.id, buy1.c.asset==d2.c.asset)\n",
    "    .order_by(d2.c.asset, d2.c.id)\n",
    "    .distinct()\n",
    ")\n",
    "for row in merge:\n",
    "    print(row)"
   ]
  },
  {
   "cell_type": "code",
   "execution_count": null,
   "id": "55798684",
   "metadata": {},
   "outputs": [],
   "source": [
    "delta_q = (\n",
    "    db.session.query(\n",
    "        Trade.id.label('id'),\n",
    "        Trade.Quantity.label('delta'),\n",
    "        func.sum(Trade.Quantity).over(partition_by=Trade.Symbol, order_by=Trade.DateTime).label('balance'),\n",
    "    )\n",
    "    .group_by(Trade.Symbol, Trade.DateTime)\n",
    "    .subquery()\n",
    ")\n",
    "\n",
    "forex_basis = (\n",
    "    db.session.query(\n",
    "        Trade.id.label('id'),\n",
    "        #Trade.DateTime.label('dt'),\n",
    "        Trade.Symbol.label('asset'),\n",
    "        Trade.Basis.label('basis'),\n",
    "        (Trade.Basis * Trade.QuoteInLocalCurrency).label('basis_local'),\n",
    "        delta_q.c.delta.label('delta'),\n",
    "        delta_q.c.balance.label('balance')\n",
    "    )\n",
    "    .outerjoin(delta_q, delta_q.c.id==Trade.id)\n",
    "    .filter(Trade.Quantity > Decimal(0))\n",
    "    .order_by(Trade.Symbol, Trade.DateTime)\n",
    ")  # todo add the weighted basis_local\n",
    "for row in forex_basis:\n",
    "    print(row)"
   ]
  },
  {
   "cell_type": "code",
   "execution_count": null,
   "id": "3d202cd8",
   "metadata": {},
   "outputs": [],
   "source": []
  }
 ],
 "metadata": {
  "kernelspec": {
   "display_name": "Python 3",
   "language": "python",
   "name": "python3"
  },
  "language_info": {
   "codemirror_mode": {
    "name": "ipython",
    "version": 3
   },
   "file_extension": ".py",
   "mimetype": "text/x-python",
   "name": "python",
   "nbconvert_exporter": "python",
   "pygments_lexer": "ipython3",
   "version": "3.8.10"
  }
 },
 "nbformat": 4,
 "nbformat_minor": 5
}
